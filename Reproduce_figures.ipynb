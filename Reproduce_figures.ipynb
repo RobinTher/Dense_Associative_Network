{
 "cells": [
  {
   "cell_type": "code",
   "execution_count": null,
   "metadata": {},
   "outputs": [],
   "source": [
    "import numpy as np\n",
    "eps = 2*np.sqrt(np.finfo(\"float\").eps)\n",
    "\n",
    "import matplotlib.pyplot as plt\n",
    "import cmasher as cmr\n",
    "%matplotlib inline\n",
    "\n",
    "from Saddle_point_iteration import plot_phase, mean_field_iteration, disordered_phase, hyperparam_space\n",
    "\n",
    "from Dense_Associative_Memory_Monte_Carlo_simulation_Nishimori_run import nishimori_run\n",
    "from Dense_Associative_Memory_Monte_Carlo_simulation_p_s2_run import p_s2_run\n",
    "from Dense_Associative_Memory_Monte_Carlo_simulation_adversarial_run import adversarial_run"
   ]
  },
  {
   "cell_type": "markdown",
   "metadata": {},
   "source": [
    "### Figure 1: RS phase diagram of the direct model."
   ]
  },
  {
   "cell_type": "markdown",
   "metadata": {},
   "source": [
    "User-defined parameters"
   ]
  },
  {
   "cell_type": "code",
   "execution_count": null,
   "metadata": {},
   "outputs": [],
   "source": [
    "# Choose a value of p\n",
    "p = 3\n",
    "\n",
    "# Precision of the Gaussian integrals in Eqs. (4)\n",
    "n_samples = 401\n",
    "\n",
    "# Resolution of the phase diagram\n",
    "# Paper plots have n_beta = 400 and n_alpha = 401\n",
    "n_beta = 100\n",
    "n_alpha = 101\n",
    "\n",
    "# Range of the phase diagram\n",
    "alpha_max = 2\n",
    "T_max = 4\n",
    "\n",
    "# Number of iterations\n",
    "# t = 100 is enough for good accuracy\n",
    "t = 100\n",
    "\n",
    "x = np.linspace(-5, 5, num = n_samples, endpoint = True)\n",
    "\n",
    "alpha, T = hyperparam_space(n_beta, n_alpha, alpha_max, T_max)\n",
    "\n",
    "c_s = alpha/T[:, np.newaxis]**2\n",
    "c = alpha/T[:, np.newaxis]**2\n",
    "beta = 1/T[:, np.newaxis]"
   ]
  },
  {
   "cell_type": "markdown",
   "metadata": {},
   "source": [
    "Saddle-point iteration to resolve the $gR$ phase"
   ]
  },
  {
   "cell_type": "code",
   "execution_count": null,
   "metadata": {},
   "outputs": [],
   "source": [
    "q_s_ref, q_ref, m_ref, r_s_ref, r_ref, k_ref = disordered_phase(n_beta, n_alpha)\n",
    "\n",
    "_, _, m_ref = mean_field_iteration(x, q_s_ref, q_ref, m_ref, r_s_ref, r_ref, k_ref,\n",
    "                                   n_beta, n_alpha, c_s, c, beta, p, t,\n",
    "                                   init_phase = \"dir_ferro\", global_phase = True)\n",
    "\n",
    "direct_global_phase = 3 * (m_ref > eps)\n",
    "with open(\"./Data/phase_boundaries/direct_global_phase_p=%d.npy\" % p, \"wb\") as file:\n",
    "    np.save(file, direct_global_phase)"
   ]
  },
  {
   "cell_type": "markdown",
   "metadata": {},
   "source": [
    "Saddle-point iteration to resolve the $lR$ phase and the $SG$ phase"
   ]
  },
  {
   "cell_type": "code",
   "execution_count": null,
   "metadata": {},
   "outputs": [],
   "source": [
    "q_s_ref, q_ref, m_ref, r_s_ref, r_ref, k_ref = disordered_phase(n_beta, n_alpha)\n",
    "\n",
    "_, _, m_ref = mean_field_iteration(x, q_s_ref, q_ref, m_ref, r_s_ref, r_ref, k_ref,\n",
    "                                   n_beta, n_alpha, c_s, c, beta, p, t,\n",
    "                                   init_phase = \"dir_ferro\", global_phase = False)\n",
    "\n",
    "q_s_ref, q_ref, _ = mean_field_iteration(x, q_s_ref, q_ref, m_ref, r_s_ref, r_ref, k_ref,\n",
    "                                         n_beta, n_alpha, c_s, c, beta, p, t,\n",
    "                                         init_phase = \"glass\", global_phase = False)\n",
    "\n",
    "direct_local_phase = 2 * (m_ref > eps)\n",
    "with open(\"./Data/phase_boundaries/direct_local_phase_p=%d.npy\" % p, \"wb\") as file:\n",
    "    np.save(file, direct_local_phase)\n",
    "\n",
    "direct_glass_phase = (q_ref > eps)\n",
    "with open(\"./Data/phase_boundaries/direct_glass_phase_p=%d.npy\" % p, \"wb\") as file:\n",
    "    np.save(file, direct_glass_phase)"
   ]
  },
  {
   "cell_type": "markdown",
   "metadata": {},
   "source": [
    "Plotting"
   ]
  },
  {
   "cell_type": "code",
   "execution_count": null,
   "metadata": {},
   "outputs": [],
   "source": [
    "with open(\"./Data/phase_boundaries/direct_global_phase_p=%d.npy\" % p, \"rb\") as file:\n",
    "    direct_global_phase = np.load(file)\n",
    "\n",
    "with open(\"./Data/phase_boundaries/direct_local_phase_p=%d.npy\" % p, \"rb\") as file:\n",
    "    direct_local_phase = np.load(file)\n",
    "\n",
    "with open(\"./Data/phase_boundaries/direct_glass_phase_p=%d.npy\" % p, \"rb\") as file:\n",
    "    direct_glass_phase = np.load(file)\n",
    "\n",
    "phase_diagram = np.max([direct_glass_phase, direct_global_phase, direct_local_phase], axis = 0)\n",
    "phase_diagram = 1 - phase_diagram / np.max(phase_diagram)\n",
    "plot_phase(phase_diagram, n_beta, n_alpha, alpha, T, p, model = \"direct\", fontsize = 16,\n",
    "           draw_neg_entropy_line = True)"
   ]
  },
  {
   "cell_type": "markdown",
   "metadata": {},
   "source": [
    "### Figure 2: RS phase diagram of the inverse model on the Nishimori line."
   ]
  },
  {
   "cell_type": "markdown",
   "metadata": {},
   "source": [
    "User-defined parameters"
   ]
  },
  {
   "cell_type": "code",
   "execution_count": null,
   "metadata": {},
   "outputs": [],
   "source": [
    "# Choose a value of p\n",
    "p = 3\n",
    "\n",
    "# Precision of the Gaussian integrals in Eqs. (4)\n",
    "n_samples = 401\n",
    "\n",
    "# Resolution of the phase diagram\n",
    "# Paper plots have n_beta = 400 and n_alpha = 401\n",
    "n_beta = 100\n",
    "n_alpha = 101\n",
    "\n",
    "# Range of the phase diagram\n",
    "alpha_max = 8\n",
    "T_max = 4\n",
    "\n",
    "# Number of iterations\n",
    "# t = 100 is enough for good accuracy\n",
    "t = 100\n",
    "\n",
    "x = np.linspace(-5, 5, num = n_samples, endpoint = True)\n",
    "\n",
    "alpha, T = hyperparam_space(n_beta, n_alpha, alpha_max, T_max)\n",
    "\n",
    "c_s = alpha/T[:, np.newaxis]**2\n",
    "c = alpha/T[:, np.newaxis]**2\n",
    "beta = 1/T[:, np.newaxis]"
   ]
  },
  {
   "cell_type": "markdown",
   "metadata": {},
   "source": [
    "Saddle-point iteration to resolve the $gR$ phase"
   ]
  },
  {
   "cell_type": "code",
   "execution_count": null,
   "metadata": {},
   "outputs": [],
   "source": [
    "q_s_ref, q_ref, m_ref, r_s_ref, r_ref, k_ref = disordered_phase(n_beta, n_alpha)\n",
    "\n",
    "q_s_ref, _, _ = mean_field_iteration(x, q_s_ref, q_ref, m_ref, r_s_ref, r_ref, k_ref,\n",
    "                                     n_beta, n_alpha, c_s, c, beta, p, t,\n",
    "                                     init_phase = \"inv_ferro\", global_phase = True)\n",
    "\n",
    "inverse_global_phase = 2 * (q_s_ref > eps)\n",
    "with open(\"./Data/phase_boundaries/inverse_global_phase_p=%d.npy\" % p, \"wb\") as file:\n",
    "    np.save(file, inverse_global_phase)"
   ]
  },
  {
   "cell_type": "markdown",
   "metadata": {},
   "source": [
    "Saddle-point iteration to resolve the $lR$ phase"
   ]
  },
  {
   "cell_type": "code",
   "execution_count": null,
   "metadata": {},
   "outputs": [],
   "source": [
    "q_s_ref, q_ref, m_ref, r_s_ref, r_ref, k_ref = disordered_phase(n_beta, n_alpha)\n",
    "\n",
    "q_s_ref, _, _ = mean_field_iteration(x, q_s_ref, q_ref, m_ref, r_s_ref, r_ref, k_ref,\n",
    "                                     n_beta, n_alpha, c_s, c, beta, p, t,\n",
    "                                     init_phase = \"inv_ferro\", global_phase = False)\n",
    "\n",
    "inverse_local_phase = (q_s_ref > eps)\n",
    "with open(\"./Data/phase_boundaries/inverse_local_phase_p=%d.npy\" % p, \"wb\") as file:\n",
    "    np.save(file, inverse_local_phase)"
   ]
  },
  {
   "cell_type": "markdown",
   "metadata": {},
   "source": [
    "Plotting\n",
    "\n",
    "Warning: requires the $gR$ phase of the direct model to be already computed and saved as \"./Data/phase_boundaries/direct_global_phase_p=%d.npy\" for the current value of $p$"
   ]
  },
  {
   "cell_type": "code",
   "execution_count": null,
   "metadata": {},
   "outputs": [],
   "source": [
    "with open(\"./Data/phase_boundaries/direct_global_phase_p=%d.npy\" % p, \"rb\") as file:\n",
    "    direct_global_phase = np.load(file)\n",
    "\n",
    "with open(\"./Data/phase_boundaries/inverse_global_phase_p=%d.npy\" % p, \"rb\") as file:\n",
    "    inverse_global_phase =  np.load(file)\n",
    "\n",
    "with open(\"./Data/phase_boundaries/inverse_local_phase_p=%d.npy\" % p, \"rb\") as file:\n",
    "    inverse_local_phase =  np.load(file)\n",
    "\n",
    "phase_diagram = np.max([inverse_global_phase, inverse_local_phase], axis = 0)\n",
    "forephases = np.array([inverse_global_phase, inverse_local_phase])\n",
    "phase_diagram[direct_global_phase[:, 0] > 0.5] = 3\n",
    "phase_diagram = 1 - phase_diagram / np.max(phase_diagram)\n",
    "\n",
    "plot_phase(phase_diagram, n_beta, n_alpha, alpha, T, p, model = \"inverse_nishimori\", forephases = forephases,\n",
    "           fontsize = 16, draw_neg_entropy_line = True)"
   ]
  },
  {
   "cell_type": "markdown",
   "metadata": {},
   "source": [
    "### Figure 4: RS overlap of the inverse model on the Nishimori line compared against Monte-Carlo simulations."
   ]
  },
  {
   "cell_type": "markdown",
   "metadata": {},
   "source": [
    "User-defined parameters"
   ]
  },
  {
   "cell_type": "code",
   "execution_count": null,
   "metadata": {},
   "outputs": [],
   "source": [
    "p = 3\n",
    "\n",
    "# Precision of the Gaussian integrals in Eqs. (4)\n",
    "n_samples = 401\n",
    "\n",
    "n_beta = 400\n",
    "n_alpha = 3\n",
    "\n",
    "# Number of iterations\n",
    "# t = 100 is enough for good accuracy\n",
    "t = 100\n",
    "\n",
    "x = np.linspace(-5, 5, num = n_samples, endpoint = True)\n",
    "\n",
    "T = np.linspace(1, 3, num = n_beta, endpoint = True)\n",
    "alpha = np.array([3, 6, 9])\n",
    "\n",
    "c_s = alpha/T[:, np.newaxis]**2\n",
    "c = alpha/T[:, np.newaxis]**2\n",
    "beta = 1/T[:, np.newaxis]"
   ]
  },
  {
   "cell_type": "markdown",
   "metadata": {},
   "source": [
    "Saddle-point iteration to resolve the $gR$ overlap"
   ]
  },
  {
   "cell_type": "code",
   "execution_count": null,
   "metadata": {},
   "outputs": [],
   "source": [
    "q_s_ref, q_ref, m_ref, r_s_ref, r_ref, k_ref = disordered_phase(n_beta, n_alpha)\n",
    "\n",
    "q_s_ref, _, _ = mean_field_iteration(x, q_s_ref, q_ref, m_ref, r_s_ref, r_ref, k_ref,\n",
    "                                     n_beta, n_alpha, c_s, c, beta, p, t,\n",
    "                                     init_phase = \"inv_ferro\", global_phase = True)\n",
    "\n",
    "inverse_global_overlap = q_s_ref\n",
    "with open(\"./Data/overlaps/inverse_global_overlap_p=%d.npy\" % p, \"wb\") as file:\n",
    "    np.save(file, inverse_global_overlap)"
   ]
  },
  {
   "cell_type": "markdown",
   "metadata": {},
   "source": [
    "Saddle-point iteration to resolve the $lR$ overlap"
   ]
  },
  {
   "cell_type": "code",
   "execution_count": null,
   "metadata": {},
   "outputs": [],
   "source": [
    "q_s_ref, q_ref, m_ref, r_s_ref, r_ref, k_ref = disordered_phase(n_beta, n_alpha)\n",
    "\n",
    "q_s_ref, _, _ = mean_field_iteration(x, q_s_ref, q_ref, m_ref, r_s_ref, r_ref, k_ref,\n",
    "                                     n_beta, n_alpha, c_s, c, beta, p, t,\n",
    "                                     init_phase = \"inv_ferro\", global_phase = False)\n",
    "\n",
    "inverse_local_overlap = q_s_ref\n",
    "with open(\"./Data/overlaps/inverse_local_overlap_p=%d.npy\" % p, \"wb\") as file:\n",
    "    np.save(file, inverse_local_overlap)"
   ]
  },
  {
   "cell_type": "markdown",
   "metadata": {},
   "source": [
    "Monte-Carlo simulation of the $gR$ phase.\n",
    "\n",
    "The $gR$ overlaps returned by the saddle-point iteration are used as initial conditions\n",
    "\n",
    "Warning: This cell is meant to run on gpu, otherwise it might be very slow"
   ]
  },
  {
   "cell_type": "code",
   "execution_count": null,
   "metadata": {},
   "outputs": [],
   "source": [
    "# Except for the seed, all user-defined parameters are set to the same values that were used to make Fig. (4).\n",
    "\n",
    "seed = 79\n",
    "N = 512\n",
    "L = 100\n",
    "t = 512*32*10\n",
    "\n",
    "# Type init_phase = \"global\" to initialize the student pattern to the global retrieval phase,\n",
    "# init_phase = \"local\" to initialize it to the local retrieval phase,\n",
    "# and anything else to initialize it equal to the teacher pattern.\n",
    "init_phase = \"global\"\n",
    "\n",
    "nishimori_run(p, seed, N, L, t, init_phase)"
   ]
  },
  {
   "cell_type": "markdown",
   "metadata": {},
   "source": [
    "Monte-Carlo simulation of the $lR$ phase\n",
    "\n",
    "The $lR$ overlaps returned by the saddle-point iteration are used as initial conditions\n",
    "\n",
    "Warning: This cell is meant to run on gpu, otherwise it might be very slow"
   ]
  },
  {
   "cell_type": "code",
   "execution_count": null,
   "metadata": {},
   "outputs": [],
   "source": [
    "# Except for the seed, all user-defined parameters are set to the same values that were used to make Fig. (4).\n",
    "\n",
    "seed = 79\n",
    "N = 512\n",
    "L = 100\n",
    "t = 512*32*10\n",
    "\n",
    "# Type init_phase = \"global\" to initialize the student pattern to the global retrieval phase,\n",
    "# init_phase = \"local\" to initialize it to the local retrieval phase,\n",
    "# and anything else to initialize it equal to the teacher pattern.\n",
    "init_phase = \"local\"\n",
    "\n",
    "nishimori_run(p, seed, N, L, t, init_phase)"
   ]
  },
  {
   "cell_type": "markdown",
   "metadata": {},
   "source": [
    "Monte-Carlo simulation of the $lR$ phase when the student pattern is initialized to the teacher pattern\n",
    "\n",
    "Warning: This cell is meant to run on gpu, otherwise it might be very slow"
   ]
  },
  {
   "cell_type": "code",
   "execution_count": null,
   "metadata": {},
   "outputs": [],
   "source": [
    "# Except for the seed, all user-defined parameters are set to the same values that were used to make Fig. (4).\n",
    "seed = 79\n",
    "N = 512\n",
    "L = 100\n",
    "t = 512*32*10\n",
    "\n",
    "# Type init_phase = \"global\" to initialize the student pattern to the global retrieval phase,\n",
    "# init_phase = \"local\" to initialize it to the local retrieval phase,\n",
    "# and anything else to initialize it equal to the teacher pattern.\n",
    "init_phase = \"\"\n",
    "\n",
    "nishimori_run(p, seed, N, L, t, init_phase)"
   ]
  },
  {
   "cell_type": "markdown",
   "metadata": {},
   "source": [
    "Plotting"
   ]
  },
  {
   "cell_type": "code",
   "execution_count": null,
   "metadata": {},
   "outputs": [],
   "source": [
    "init_phase = \"\"\n",
    "\n",
    "if init_phase == \"global\":\n",
    "    with open(\"./Data/overlaps/inverse_global_overlap_p=%d.npy\" % p, \"rb\") as file:\n",
    "        q_s_ref = np.load(file)\n",
    "    with open(\"./Data/overlaps/mean_global_xi_overlap_p=%d.npy\" % p, \"rb\") as file:\n",
    "        mean_xi_overlaps = np.load(file)\n",
    "    with open(\"./Data/overlaps/std_global_xi_overlap_p=%d.npy\" % p, \"rb\") as file:\n",
    "        std_xi_overlaps = np.load(file)\n",
    "    \n",
    "elif init_phase == \"local\":\n",
    "    with open(\"./Data/overlaps/inverse_local_overlap_p=%d.npy\" % p, \"rb\") as file:\n",
    "        q_s_ref = np.load(file)\n",
    "    with open(\"./Data/overlaps/mean_local_xi_overlap_p=%d.npy\" % p, \"rb\") as file:\n",
    "        mean_xi_overlaps = np.load(file)\n",
    "    with open(\"./Data/overlaps/std_local_xi_overlap_p=%d.npy\" % p, \"rb\") as file:\n",
    "        std_xi_overlaps = np.load(file)\n",
    "\n",
    "else:\n",
    "    with open(\"./Data/overlaps/inverse_local_overlap_p=%d.npy\" % p, \"rb\") as file:\n",
    "        q_s_ref = np.load(file)\n",
    "    with open(\"./Data/overlaps/mean_xi_overlap_p=%d.npy\" % p, \"rb\") as file:\n",
    "        mean_xi_overlaps = np.load(file)\n",
    "    with open(\"./Data/overlaps/std_xi_overlap_p=%d.npy\" % p, \"rb\") as file:\n",
    "        std_xi_overlaps = np.load(file)\n",
    "\n",
    "n_beta = 400\n",
    "\n",
    "T_calculation = np.linspace(1, 3, num = n_beta, endpoint = True)\n",
    "\n",
    "n_beta = 20\n",
    "\n",
    "T_simulation = np.linspace(1, 3, num = n_beta, endpoint = True)\n",
    "\n",
    "alpha = np.array([3, 6, 9])"
   ]
  },
  {
   "cell_type": "code",
   "execution_count": null,
   "metadata": {},
   "outputs": [],
   "source": [
    "fontsize = 13\n",
    "\n",
    "q_s_ref[T_calculation < 1.49] = 1\n",
    "\n",
    "calculation_lines = plt.plot(T_calculation, q_s_ref, zorder = 1)\n",
    "\n",
    "simulation_lines = []\n",
    "\n",
    "for index, (mean_xi_overlap, std_xi_overlap, q_s_cur) in enumerate(zip(mean_xi_overlaps.T, std_xi_overlaps.T, q_s_ref.T)):\n",
    "    draw_first = q_s_cur > 0.5\n",
    "    \n",
    "    plt.plot(T_calculation[draw_first], q_s_cur[draw_first], color = \"C%d\" % index, zorder = (4 - index)/4)\n",
    "    \n",
    "    draw_first = (mean_xi_overlap - std_xi_overlap) > 0\n",
    "    \n",
    "    line = plt.errorbar(T_simulation[draw_first], mean_xi_overlap[draw_first], std_xi_overlap[draw_first],\n",
    "                        marker = \"o\", linestyle = \"None\", color = \"C%d\" % index, capsize = 3, zorder = 4 - index)\n",
    "    simulation_lines.append(line)\n",
    "\n",
    "    line = plt.errorbar(T_simulation[~draw_first], mean_xi_overlap[~draw_first], std_xi_overlap[~draw_first],\n",
    "                        marker = \"o\", linestyle = \"None\", color = \"C%d\" % index, capsize = 3, zorder = index + 1)\n",
    "    simulation_lines.append(line)\n",
    "\n",
    "plt.xlabel(r\"$T$\", fontsize = fontsize)\n",
    "plt.ylabel(r\"Mean overlap $q^*$\", fontsize = fontsize)\n",
    "plt.ylim(bottom = -0.1, top = 1.1)\n",
    "plt.xticks(fontsize = fontsize)\n",
    "plt.yticks(fontsize = fontsize)\n",
    "text_range = np.char.add(r\"$\\alpha = \", alpha.astype(\"str\"))\n",
    "text_range = np.char.add(text_range, \"$\")\n",
    "plt.legend(calculation_lines, text_range, fontsize = fontsize)\n",
    "plt.show()"
   ]
  },
  {
   "cell_type": "markdown",
   "metadata": {},
   "source": [
    "### Figure 5: RS phase diagrams of inverse models with $p^* = p$ and fixed $\\beta^*$."
   ]
  },
  {
   "cell_type": "markdown",
   "metadata": {},
   "source": [
    "User-defined parameters"
   ]
  },
  {
   "cell_type": "code",
   "execution_count": null,
   "metadata": {},
   "outputs": [],
   "source": [
    "# Choose a value of p\n",
    "p = 3\n",
    "\n",
    "# Choose a dataset noise (or teacher temperature)\n",
    "T_s = 1.5\n",
    "\n",
    "# Precision of the Gaussian integrals in Eqs. (4)\n",
    "n_samples = 401\n",
    "\n",
    "# Resolution of the phase diagram\n",
    "# Paper plots have n_beta = 400 and n_alpha = 401\n",
    "n_beta = 100\n",
    "n_alpha = 101\n",
    "\n",
    "# Range of the phase diagram\n",
    "alpha_max = 4\n",
    "T_max = 4\n",
    "\n",
    "# Number of iterations\n",
    "# t = 100 is enough for good accuracy\n",
    "t = 100\n",
    "\n",
    "x = np.linspace(-5, 5, num = n_samples, endpoint = True)\n",
    "\n",
    "alpha, T = hyperparam_space(n_beta, n_alpha, alpha_max, T_max)\n",
    "\n",
    "c_s = alpha/(T_s*T[:, np.newaxis])\n",
    "c = alpha/T[:, np.newaxis]**2\n",
    "beta = 1/T[:, np.newaxis]"
   ]
  },
  {
   "cell_type": "markdown",
   "metadata": {},
   "source": [
    "Saddle-point iteration to resolve the $gR$ phase and the $eR$ phase"
   ]
  },
  {
   "cell_type": "code",
   "execution_count": null,
   "metadata": {},
   "outputs": [],
   "source": [
    "q_s_ref, q_ref, m_ref, r_s_ref, r_ref, k_ref = disordered_phase(n_beta, n_alpha)\n",
    "\n",
    "q_s_ref, q_ref, _ = mean_field_iteration(x, q_s_ref, q_ref, m_ref, r_s_ref, r_ref, k_ref,\n",
    "                                         n_beta, n_alpha, c_s, c, beta, p, t,\n",
    "                                         init_phase = \"inv_ferro\", global_phase = True)\n",
    "\n",
    "_, _, m_ref = mean_field_iteration(x, q_s_ref, q_ref, m_ref, r_s_ref, r_ref, k_ref,\n",
    "                                   n_beta, n_alpha, c_s, c, beta, p, t,\n",
    "                                   init_phase = \"dir_ferro\", global_phase = True)\n",
    "\n",
    "inverse_global_phase = 3 * (q_s_ref > eps)\n",
    "with open(\"./Data/phase_boundaries/inverse_global_phase_p=%d_and_T_s=%.2f.npy\" % (p, T_s), \"wb\") as file:\n",
    "    np.save(file, inverse_global_phase)\n",
    "\n",
    "inverse_example_phase = 4 * (m_ref > eps)\n",
    "with open(\"./Data/phase_boundaries/inverse_example_phase_p=%d_and_T_s=%.2f.npy\" % (p, T_s), \"wb\") as file:\n",
    "    np.save(file, inverse_example_phase)"
   ]
  },
  {
   "cell_type": "markdown",
   "metadata": {},
   "source": [
    "Saddle-point iteration to resolve the $lR$ phase and the $SG$ phase"
   ]
  },
  {
   "cell_type": "code",
   "execution_count": null,
   "metadata": {},
   "outputs": [],
   "source": [
    "q_s_ref, q_ref, m_ref, r_s_ref, r_ref, k_ref = disordered_phase(n_beta, n_alpha)\n",
    "\n",
    "q_s_ref, q_ref, _ = mean_field_iteration(x, q_s_ref, q_ref, m_ref, r_s_ref, r_ref, k_ref,\n",
    "                                         n_beta, n_alpha, c_s, c, beta, p, t,\n",
    "                                         init_phase = \"inv_ferro\", global_phase = False)\n",
    "\n",
    "_, q_ref, _ = mean_field_iteration(x, q_s_ref, q_ref, m_ref, r_s_ref, r_ref, k_ref,\n",
    "                                   n_beta, n_alpha, c_s, c, beta, p, t,\n",
    "                                   init_phase = \"glass\", global_phase = False)\n",
    "\n",
    "inverse_local_phase = 2 * (q_s_ref > eps)\n",
    "with open(\"./Data/phase_boundaries/inverse_local_phase_p=%d_and_T_s=%.2f.npy\" % (p, T_s), \"wb\") as file:\n",
    "    np.save(file, inverse_local_phase)\n",
    "\n",
    "inverse_glass_phase = (q_ref > eps)\n",
    "with open(\"./Data/phase_boundaries/inverse_glass_phase_p=%d_and_T_s=%.2f.npy\" % (p, T_s), \"wb\") as file:\n",
    "    np.save(file, inverse_glass_phase)"
   ]
  },
  {
   "cell_type": "markdown",
   "metadata": {},
   "source": [
    "Plotting"
   ]
  },
  {
   "cell_type": "code",
   "execution_count": null,
   "metadata": {},
   "outputs": [],
   "source": [
    "with open(\"./Data/phase_boundaries/inverse_global_phase_p=%d_and_T_s=%.2f.npy\" % (p, T_s), \"rb\") as file:\n",
    "    inverse_global_phase = np.load(file)\n",
    "\n",
    "with open(\"./Data/phase_boundaries/inverse_local_phase_p=%d_and_T_s=%.2f.npy\" % (p, T_s), \"rb\") as file:\n",
    "    inverse_local_phase = np.load(file)\n",
    "\n",
    "with open(\"./Data/phase_boundaries/inverse_glass_phase_p=%d_and_T_s=%.2f.npy\" % (p, T_s), \"rb\") as file:\n",
    "    inverse_glass_phase = np.load(file)\n",
    "\n",
    "with open(\"./Data/phase_boundaries/inverse_example_phase_p=%d_and_T_s=%.2f.npy\" % (p, T_s), \"rb\") as file:\n",
    "    inverse_example_phase = np.load(file)\n",
    "\n",
    "with open(\"./Data/phase_boundaries/inverse_global_phase_p=%d.npy\" % p, \"rb\") as file:\n",
    "    inverse_nishimori_global_phase = np.load(file)\n",
    "    inverse_nishimori_global_phase = np.repeat(inverse_nishimori_global_phase, repeats = 2, axis = 1)[:, : n_alpha]\n",
    "\n",
    "with open(\"./Data/phase_boundaries/direct_global_phase_p=%d.npy\" % p, \"rb\") as file:\n",
    "    direct_global_phase = np.load(file)\n",
    "\n",
    "phase_diagram = np.max([inverse_global_phase, inverse_example_phase, inverse_local_phase, inverse_glass_phase], axis = 0)\n",
    "forephases = np.array([inverse_nishimori_global_phase])\n",
    "phase_diagram = 1 - phase_diagram / np.max(phase_diagram)\n",
    "plot_phase(phase_diagram, n_beta, n_alpha, alpha, T, p, model = \"inverse_fixed_T_s\", forephases = forephases,\n",
    "           fontsize = 16, draw_neg_entropy_line = False, T_ref = T_s)"
   ]
  },
  {
   "cell_type": "markdown",
   "metadata": {},
   "source": [
    "### Figure 6 part 1: RS phase diagrams of the inverse model with $p^* = 2$ and $p \\geq 3$ in the finite-noise scaling regime."
   ]
  },
  {
   "cell_type": "markdown",
   "metadata": {},
   "source": [
    "User-defined parameters"
   ]
  },
  {
   "cell_type": "code",
   "execution_count": null,
   "metadata": {},
   "outputs": [],
   "source": [
    "# Choose a value of p\n",
    "p = 4\n",
    "\n",
    "# Choose a value of eta\n",
    "eta = 1\n",
    "\n",
    "# Precision of the Gaussian integrals in Eqs. (4)\n",
    "n_samples = 401\n",
    "\n",
    "# Resolution of the phase diagram\n",
    "# Paper plots have n_beta = 400 and n_alpha = 401\n",
    "n_beta = 100\n",
    "n_alpha = 101\n",
    "\n",
    "# Range of the phase diagram\n",
    "alpha_max = 2\n",
    "T_max = 4\n",
    "\n",
    "# Number of iterations\n",
    "# t = 100 is enough for good accuracy\n",
    "t = 100\n",
    "\n",
    "x = np.linspace(-5, 5, num = n_samples, endpoint = True)\n",
    "\n",
    "alpha, T = hyperparam_space(n_beta, n_alpha, alpha_max, T_max)\n",
    "\n",
    "c_s = alpha/T[:, np.newaxis]*eta\n",
    "c = np.zeros_like(alpha/T[:, np.newaxis]**2)\n",
    "beta = 1/T[:, np.newaxis]"
   ]
  },
  {
   "cell_type": "markdown",
   "metadata": {},
   "source": [
    "Saddle-point iteration to resolve the $gR$ phase and the $eR$ phase"
   ]
  },
  {
   "cell_type": "code",
   "execution_count": null,
   "metadata": {},
   "outputs": [],
   "source": [
    "q_s_ref, q_ref, m_ref, r_s_ref, r_ref, k_ref = disordered_phase(n_beta, n_alpha)\n",
    "\n",
    "q_s_ref, q_ref, _ = mean_field_iteration(x, q_s_ref, q_ref, m_ref, r_s_ref, r_ref, k_ref,\n",
    "                                         n_beta, n_alpha, c_s, c, beta, p, t,\n",
    "                                         init_phase = \"inv_ferro\", global_phase = True)\n",
    "\n",
    "_, _, m_ref = mean_field_iteration(x, q_s_ref, q_ref, m_ref, r_s_ref, r_ref, k_ref,\n",
    "                                   n_beta, n_alpha, c_s, c, beta, p, t,\n",
    "                                   init_phase = \"dir_ferro\", global_phase = True)\n",
    "\n",
    "inverse_global_phase = 2 * (q_s_ref > eps)\n",
    "with open(\"./Data/phase_boundaries/inverse_global_phase_p_s=2_and_p=%d_low_T_s.npy\" % p, \"wb\") as file:\n",
    "    np.save(file, inverse_global_phase)\n",
    "\n",
    "inverse_example_phase = 3 * (m_ref > eps)\n",
    "with open(\"./Data/phase_boundaries/inverse_global_example_phase_p_s=2_and_p=%d_low_T_s.npy\" % p, \"wb\") as file:\n",
    "    np.save(file, inverse_example_phase)"
   ]
  },
  {
   "cell_type": "markdown",
   "metadata": {},
   "source": [
    "Saddle-point iteration to resolve the $lR$ phase and the $eR$ phase"
   ]
  },
  {
   "cell_type": "code",
   "execution_count": null,
   "metadata": {},
   "outputs": [],
   "source": [
    "q_s_ref, q_ref, m_ref, r_s_ref, r_ref, k_ref = disordered_phase(n_beta, n_alpha)\n",
    "\n",
    "_, _, m_ref = mean_field_iteration(x, q_s_ref, q_ref, m_ref, r_s_ref, r_ref, k_ref,\n",
    "                                   n_beta, n_alpha, c_s, c, beta, p, t,\n",
    "                                   init_phase = \"dir_ferro\", global_phase = True)\n",
    "\n",
    "q_s_ref, _, _ = mean_field_iteration(x, q_s_ref, q_ref, m_ref, r_s_ref, r_ref, k_ref,\n",
    "                                     n_beta, n_alpha, c_s, c, beta, p, t,\n",
    "                                     init_phase = \"inv_ferro\", global_phase = False)\n",
    "\n",
    "inverse_local_phase = (q_s_ref > eps)\n",
    "with open(\"./Data/phase_boundaries/inverse_local_phase_p_s=2_and_p=%d_low_T_s.npy\" % p, \"wb\") as file:\n",
    "    np.save(file, inverse_local_phase)\n",
    "\n",
    "inverse_example_phase = 3 * (m_ref > eps)\n",
    "with open(\"./Data/phase_boundaries/inverse_example_phase_p_s=2_and_p=%d_low_T_s.npy\" % p, \"wb\") as file:\n",
    "    np.save(file, inverse_example_phase)"
   ]
  },
  {
   "cell_type": "markdown",
   "metadata": {},
   "source": [
    "Plotting"
   ]
  },
  {
   "cell_type": "code",
   "execution_count": null,
   "metadata": {
    "scrolled": true
   },
   "outputs": [],
   "source": [
    "with open(\"./Data/phase_boundaries/inverse_global_phase_p_s=2_and_p=%d_low_T_s.npy\" % p, \"rb\") as file:\n",
    "    inverse_global_phase = np.load(file)\n",
    "\n",
    "with open(\"./Data/phase_boundaries/inverse_global_example_phase_p_s=2_and_p=%d_low_T_s.npy\" % p, \"rb\") as file:\n",
    "    inverse_global_example_phase = np.load(file)\n",
    "\n",
    "with open(\"./Data/phase_boundaries/inverse_local_phase_p_s=2_and_p=%d_low_T_s.npy\" % p, \"rb\") as file:\n",
    "    inverse_local_phase = np.load(file)\n",
    "\n",
    "with open(\"./Data/phase_boundaries/inverse_example_phase_p_s=2_and_p=%d_low_T_s.npy\" % p, \"rb\") as file:\n",
    "    inverse_example_phase = np.load(file)\n",
    "\n",
    "phase_diagram = np.max([inverse_global_phase, inverse_global_example_phase, inverse_local_phase], axis = 0)\n",
    "forephases = np.array([inverse_global_phase, inverse_example_phase, inverse_local_phase])\n",
    "phase_diagram = 1 - phase_diagram / np.max(phase_diagram)\n",
    "plot_phase(phase_diagram, n_beta, n_alpha, alpha, T, p, forephases = forephases,\n",
    "           model = \"inverse_nishimori\", fontsize = 16, draw_neg_entropy_line = False)"
   ]
  },
  {
   "cell_type": "markdown",
   "metadata": {},
   "source": [
    "### Figure 6 part 2: RS phase diagrams of the inverse model with $p^* = 2$ and $p \\geq 3$ in the large-noise scaling regime."
   ]
  },
  {
   "cell_type": "markdown",
   "metadata": {},
   "source": [
    "User-defined parameters"
   ]
  },
  {
   "cell_type": "code",
   "execution_count": null,
   "metadata": {},
   "outputs": [],
   "source": [
    "# Choose a value of p\n",
    "p = 4\n",
    "\n",
    "# Precision of the Gaussian integrals in Eqs. (4)\n",
    "n_samples = 401\n",
    "\n",
    "# Resolution of the phase diagram\n",
    "# Paper plots have n_beta = 400 and n_alpha = 401\n",
    "n_beta = 100\n",
    "n_alpha = 101\n",
    "\n",
    "# Range of the phase diagram\n",
    "alpha_max = 2\n",
    "T_max = 4\n",
    "\n",
    "# Number of iterations\n",
    "# t = 100 is enough for good accuracy\n",
    "t = 100\n",
    "\n",
    "x = np.linspace(-5, 5, num = n_samples, endpoint = True)\n",
    "\n",
    "alpha, T = hyperparam_space(n_beta, n_alpha, alpha_max, T_max)\n",
    "\n",
    "c_s = alpha/T[:, np.newaxis]**2\n",
    "c = alpha/T[:, np.newaxis]**2\n",
    "beta = 1/T[:, np.newaxis]"
   ]
  },
  {
   "cell_type": "markdown",
   "metadata": {},
   "source": [
    "Saddle-point iteration to resolve the $gR$ phase and the $eR$ phase"
   ]
  },
  {
   "cell_type": "code",
   "execution_count": null,
   "metadata": {},
   "outputs": [],
   "source": [
    "q_s_ref, q_ref, m_ref, r_s_ref, r_ref, k_ref = disordered_phase(n_beta, n_alpha)\n",
    "\n",
    "q_s_ref, q_ref, _ = mean_field_iteration(x, q_s_ref, q_ref, m_ref, r_s_ref, r_ref, k_ref,\n",
    "                                         n_beta, n_alpha, c_s, c, beta, p, t,\n",
    "                                         init_phase = \"inv_ferro\", global_phase = True)\n",
    "\n",
    "_, _, m_ref = mean_field_iteration(x, q_s_ref, q_ref, m_ref, r_s_ref, r_ref, k_ref,\n",
    "                                   n_beta, n_alpha, c_s, c, beta, p, t,\n",
    "                                   init_phase = \"dir_ferro\", global_phase = True)\n",
    "\n",
    "inverse_global_phase = 2 * (q_s_ref > eps)\n",
    "with open(\"./Data/phase_boundaries/inverse_global_phase_p_s=2_and_p=%d_high_T_s.npy\" % p, \"wb\") as file:\n",
    "    np.save(file, inverse_global_phase)\n",
    "    \n",
    "inverse_example_phase = 3 * (m_ref > eps)\n",
    "with open(\"./Data/phase_boundaries/inverse_example_phase_p_s=2_and_p=%d_high_T_s.npy\" % p, \"wb\") as file:\n",
    "    np.save(file, inverse_example_phase)"
   ]
  },
  {
   "cell_type": "markdown",
   "metadata": {},
   "source": [
    "Saddle-point iteration to resolve the $lR$ phase"
   ]
  },
  {
   "cell_type": "code",
   "execution_count": null,
   "metadata": {},
   "outputs": [],
   "source": [
    "q_s_ref, q_ref, m_ref, r_s_ref, r_ref, k_ref = disordered_phase(n_beta, n_alpha)\n",
    "\n",
    "q_s_ref, _, _ = mean_field_iteration(x, q_s_ref, q_ref, m_ref, r_s_ref, r_ref, k_ref,\n",
    "                                     n_beta, n_alpha, c_s, c, beta, p, t,\n",
    "                                     init_phase = \"inv_ferro\", global_phase = False)\n",
    "\n",
    "inverse_local_phase = (q_s_ref > eps)\n",
    "with open(\"./Data/phase_boundaries/inverse_local_phase_p_s=2_and_p=%d_high_T_s.npy\" % p, \"wb\") as file:\n",
    "    np.save(file, inverse_local_phase)"
   ]
  },
  {
   "cell_type": "markdown",
   "metadata": {},
   "source": [
    "Plotting"
   ]
  },
  {
   "cell_type": "code",
   "execution_count": null,
   "metadata": {
    "scrolled": true
   },
   "outputs": [],
   "source": [
    "with open(\"./Data/phase_boundaries/inverse_global_phase_p_s=2_and_p=%d_high_T_s.npy\" % p, \"rb\") as file:\n",
    "    inverse_global_phase = np.load(file)\n",
    "\n",
    "with open(\"./Data/phase_boundaries/inverse_example_phase_p_s=2_and_p=%d_high_T_s.npy\" % p, \"rb\") as file:\n",
    "    inverse_example_phase = np.load(file)\n",
    "\n",
    "with open(\"./Data/phase_boundaries/inverse_local_phase_p_s=2_and_p=%d_high_T_s.npy\" % p, \"rb\") as file:\n",
    "    inverse_local_phase = np.load(file)\n",
    "\n",
    "phase_diagram = np.max([inverse_global_phase, inverse_example_phase, inverse_local_phase], axis = 0)\n",
    "forephases = np.array([inverse_local_phase, inverse_global_phase, direct_global_phase])\n",
    "phase_diagram = 1 - phase_diagram / 3 # np.max(phase_diagram)\n",
    "plot_phase(phase_diagram, n_beta, n_alpha, alpha, T, p, model = \"inverse_nishimori\", forephases = forephases,\n",
    "           fontsize = 16, draw_neg_entropy_line = True)"
   ]
  },
  {
   "cell_type": "markdown",
   "metadata": {},
   "source": [
    "### Figure 7: RS overlap of the inverse model with $p^* = 2$ and $p \\geq 3$ in the large-noise scaling regime compared against Monte-Carlo simulations"
   ]
  },
  {
   "cell_type": "markdown",
   "metadata": {},
   "source": [
    "User-defined parameters"
   ]
  },
  {
   "cell_type": "code",
   "execution_count": null,
   "metadata": {},
   "outputs": [],
   "source": [
    "p = 4\n",
    "\n",
    "# Precision of the Gaussian integrals in Eqs. (4)\n",
    "n_samples = 401\n",
    "\n",
    "n_beta = 381\n",
    "n_alpha = 3\n",
    "\n",
    "# Number of iterations\n",
    "# t = 100 is enough for good accuracy\n",
    "t = 100\n",
    "\n",
    "x = np.linspace(-5, 5, num = n_samples, endpoint = True)\n",
    "\n",
    "T = np.linspace(0.4, 4.2, num = n_beta, endpoint = True)\n",
    "alpha = np.array([0.5, 1, 1.5])\n",
    "\n",
    "c_s = alpha/T[:, np.newaxis]**2\n",
    "c = alpha/T[:, np.newaxis]**2\n",
    "beta = 1/T[:, np.newaxis]"
   ]
  },
  {
   "cell_type": "markdown",
   "metadata": {},
   "source": [
    "Saddle-point iteration to resolve the $lR$ overlap"
   ]
  },
  {
   "cell_type": "code",
   "execution_count": null,
   "metadata": {},
   "outputs": [],
   "source": [
    "q_s_ref, q_ref, m_ref, r_s_ref, r_ref, k_ref = disordered_phase(n_beta, n_alpha)\n",
    "\n",
    "q_s_ref, _, _ = mean_field_iteration(x, q_s_ref, q_ref, m_ref, r_s_ref, r_ref, k_ref,\n",
    "                                     n_beta, n_alpha, c_s, c, beta, p, t,\n",
    "                                     init_phase = \"inv_ferro\", global_phase = False)\n",
    "\n",
    "inverse_local_overlap = q_s_ref\n",
    "with open(\"./Data/overlaps/inverse_local_overlap_p_s=2_and_p=%d.npy\" % p, \"wb\") as file:\n",
    "    np.save(file, inverse_local_overlap)"
   ]
  },
  {
   "cell_type": "markdown",
   "metadata": {},
   "source": [
    "Monte-Carlo simulation\n",
    "\n",
    "Warning: This cell is meant to run on gpu, otherwise it might be very slow"
   ]
  },
  {
   "cell_type": "code",
   "execution_count": null,
   "metadata": {},
   "outputs": [],
   "source": [
    "# Except for the seed, all user-defined parameters are set to the same values that were used to make Fig. (4).\n",
    "\n",
    "seed = 79\n",
    "N = 256\n",
    "L = 100\n",
    "t = 2560*16\n",
    "\n",
    "p_s2_run(p, seed, N, L, t)"
   ]
  },
  {
   "cell_type": "markdown",
   "metadata": {},
   "source": [
    "Plotting"
   ]
  },
  {
   "cell_type": "code",
   "execution_count": null,
   "metadata": {},
   "outputs": [],
   "source": [
    "with open(\"./Data/overlaps/mean_xi_overlap_p_s=2_p=%d.npy\" % p, \"rb\") as file:\n",
    "    mean_xi_overlaps = np.load(file)\n",
    "\n",
    "with open(\"./Data/overlaps/std_xi_overlap_p_s=2_p=%d.npy\" % p, \"rb\") as file:\n",
    "    std_xi_overlaps = np.load(file)\n",
    "\n",
    "n_beta = 381\n",
    "\n",
    "T_calculation = np.linspace(0.4, 4.2, num = n_beta, endpoint = True)\n",
    "\n",
    "n_beta = 20\n",
    "\n",
    "T_simulation = np.linspace(0.4, 4.2, num = n_beta, endpoint = True)\n",
    "\n",
    "alpha = np.array([0.5, 1, 1.5])"
   ]
  },
  {
   "cell_type": "code",
   "execution_count": null,
   "metadata": {},
   "outputs": [],
   "source": [
    "fontsize = 13\n",
    "\n",
    "calculation_lines = plt.plot(T_calculation, q_s_ref, zorder = 1)\n",
    "\n",
    "simulation_lines = []\n",
    "\n",
    "for index, (mean_xi_overlap, std_xi_overlap, q_s_cur) in enumerate(zip(mean_xi_overlaps.T, std_xi_overlaps.T, q_s_ref.T)):\n",
    "    draw_first = q_s_cur > 0.5\n",
    "    \n",
    "    plt.plot(T_calculation[draw_first], q_s_cur[draw_first], color = \"C%d\" % index, zorder = (4 - index)/4)\n",
    "    \n",
    "    draw_first = (mean_xi_overlap - std_xi_overlap) > 0\n",
    "    \n",
    "    line = plt.errorbar(np.concatenate([T_simulation[draw_first], T_simulation[~draw_first][: 1]]),\n",
    "                        np.concatenate([mean_xi_overlap[draw_first], mean_xi_overlap[~draw_first][: 1]]),\n",
    "                        np.concatenate([std_xi_overlap[draw_first], std_xi_overlap[~draw_first][: 1]]),\n",
    "                        linestyle = \"--\", marker = \"o\", color = \"C%d\" % index, capsize = 3, zorder = 4 - index)\n",
    "    simulation_lines.append(line)\n",
    "\n",
    "    line = plt.errorbar(T_simulation[~draw_first], mean_xi_overlap[~draw_first], std_xi_overlap[~draw_first],\n",
    "                        linestyle = \"--\", marker = \"o\", color = \"C%d\" % index, capsize = 3, zorder = index + 2)\n",
    "    simulation_lines.append(line)\n",
    "\n",
    "plt.xlabel(r\"$T$\", fontsize = fontsize)\n",
    "plt.ylabel(r\"Mean overlap $q^*$\", fontsize = fontsize)\n",
    "plt.ylim(bottom = -0.1, top = 1.1)\n",
    "plt.xticks(fontsize = fontsize)\n",
    "plt.yticks(fontsize = fontsize)\n",
    "text_range = np.char.add(r\"$\\alpha = \", alpha.astype(\"str\"))\n",
    "text_range = np.char.add(text_range, \"$\")\n",
    "plt.legend(calculation_lines, text_range, fontsize = fontsize)\n",
    "plt.show()"
   ]
  },
  {
   "cell_type": "markdown",
   "metadata": {},
   "source": [
    "### Figure 8: RS overlap of the adversarially perturbed inverse model with $p^* = 2$ and $p \\geq 3$ in the finite-noise scaling regime compared against Monte-Carlo simulations"
   ]
  },
  {
   "cell_type": "markdown",
   "metadata": {},
   "source": [
    "Monte-Carlo simulation where the student pattern is corrupted by a typical memory\n",
    "\n",
    "Warning: This cell is meant to run on gpu, otherwise it might be very slow"
   ]
  },
  {
   "cell_type": "code",
   "execution_count": null,
   "metadata": {},
   "outputs": [],
   "source": [
    "# Except for the seed, all these user-defined parameters are set to the same values that were used to make Fig. (8).\n",
    "p = 4\n",
    "T_s = 2 + np.sqrt(2)\n",
    "seed = 79\n",
    "N = 1024\n",
    "L = 100\n",
    "t_s = 512*32\n",
    "t = 25600\n",
    "\n",
    "# Type max_adv_overlap = True to corrupt the student pattern with the memory that has the largest overlap with it.\n",
    "# Type max_adv_overlap = False to corrupt the student pattern with a memory that has a typical overlap with it\n",
    "max_adv_overlap = False\n",
    "\n",
    "adversarial_run(p, T_s, seed, N, L, t_s, t, max_adv_overlap)"
   ]
  },
  {
   "cell_type": "markdown",
   "metadata": {},
   "source": [
    "Monte-Carlo simulation where the student pattern is corrupted by the memory that has the largest overlap with it\n",
    "\n",
    "Warning: This cell is meant to run on gpu, otherwise it might be very slow"
   ]
  },
  {
   "cell_type": "code",
   "execution_count": null,
   "metadata": {},
   "outputs": [],
   "source": [
    "# Except for the seed, all these user-defined parameters are set to the same values that were used to make Fig. (8).\n",
    "p = 4\n",
    "T_s = 2 + np.sqrt(2)\n",
    "seed = 79\n",
    "N = 1024\n",
    "L = 100\n",
    "t_s = 512*32\n",
    "t = 25600\n",
    "\n",
    "# Type max_adv_overlap = True to corrupt the student pattern with the memory that has the largest overlap with it.\n",
    "# Type max_adv_overlap = False to corrupt the student pattern with a memory that has a typical overlap with it\n",
    "max_adv_overlap = True\n",
    "\n",
    "adversarial_run(p, T_s, seed, N, L, t_s, t, max_adv_overlap)"
   ]
  },
  {
   "cell_type": "markdown",
   "metadata": {},
   "source": [
    "Plotting"
   ]
  },
  {
   "cell_type": "code",
   "execution_count": null,
   "metadata": {},
   "outputs": [],
   "source": [
    "# Except for the seed, all these user-defined parameters are set to the same values that were used to make Fig. (8).\n",
    "p = 4\n",
    "T_s = 2 + np.sqrt(2)\n",
    "seed = 79\n",
    "N = 1024\n",
    "L = 100\n",
    "t_s = 512*32\n",
    "t = 25600\n",
    "\n",
    "# Type max_adv_overlap = True to corrupt the student pattern with the memory that has the largest overlap with it.\n",
    "# Type max_adv_overlap = False to corrupt the student pattern with a memory that has a typical overlap with it\n",
    "max_adv_overlap = False"
   ]
  },
  {
   "cell_type": "code",
   "execution_count": null,
   "metadata": {},
   "outputs": [],
   "source": [
    "with open(\"./Data/overlaps/mean_xi_overlap_adversarial_max_adv_overlap=%s_p=%d.npy\" % (max_adv_overlap, p), \"rb\") as file:\n",
    "    mean_xi_overlaps = np.load(file)\n",
    "    \n",
    "with open(\"./Data/overlaps/std_xi_overlap_adversarial_max_adv_overlap=%s_p=%d.npy\" % (max_adv_overlap, p), \"rb\") as file:\n",
    "    std_xi_overlaps = np.load(file)\n",
    "\n",
    "n_eps = 25\n",
    "\n",
    "eps_range = np.linspace(0.25, 0.5, num = n_eps, endpoint = True)\n",
    "\n",
    "n_alpha = 25\n",
    "    \n",
    "alpha_range = np.linspace(0.05, 1, num = n_alpha, endpoint = True)"
   ]
  },
  {
   "cell_type": "code",
   "execution_count": null,
   "metadata": {},
   "outputs": [],
   "source": [
    "alpha_min = np.min(alpha_range)\n",
    "alpha_max = np.max(alpha_range)\n",
    "\n",
    "eps_min = np.min(eps_range)\n",
    "eps_max = np.max(eps_range)\n",
    "\n",
    "aspect = (alpha_max - alpha_min) / (eps_max - eps_min)\n",
    "\n",
    "fontsize = 16\n",
    "\n",
    "plt.imshow(np.abs(mean_xi_overlaps), vmin = 0, vmax = 1, origin = \"lower\", aspect = aspect,\n",
    "           extent = (alpha_min, alpha_max, eps_min, eps_max), cmap = cmr.prinsenvlag)\n",
    "colorbar = plt.colorbar()\n",
    "colorbar.set_label(label = r\"Mean overlap $q^*$\", size = fontsize)\n",
    "colorbar.ax.tick_params(labelsize = fontsize)\n",
    "plt.xticks(fontsize = fontsize)\n",
    "plt.yticks(fontsize = fontsize)\n",
    "plt.xlabel(r\"$\\alpha$\", fontsize = fontsize)\n",
    "plt.ylabel(r\"Adversarial attack size $\\varepsilon$\", fontsize = fontsize)\n",
    "plt.plot(alpha_range, alpha_range**(1/3) / (1 + alpha_range**(1/3)), color = \"black\")\n",
    "plt.show()"
   ]
  },
  {
   "cell_type": "code",
   "execution_count": null,
   "metadata": {},
   "outputs": [],
   "source": []
  }
 ],
 "metadata": {
  "kernelspec": {
   "display_name": "Python 3",
   "language": "python",
   "name": "python3"
  },
  "language_info": {
   "codemirror_mode": {
    "name": "ipython",
    "version": 3
   },
   "file_extension": ".py",
   "mimetype": "text/x-python",
   "name": "python",
   "nbconvert_exporter": "python",
   "pygments_lexer": "ipython3",
   "version": "3.7.4"
  }
 },
 "nbformat": 4,
 "nbformat_minor": 4
}
